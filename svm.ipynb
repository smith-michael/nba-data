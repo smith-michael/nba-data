{
 "cells": [
  {
   "cell_type": "code",
   "execution_count": 17,
   "metadata": {},
   "outputs": [],
   "source": [
    "import numpy as np\n",
    "import matplotlib.pyplot as pyplot\n",
    "\n",
    "from sklearn import svm\n",
    "from sklearn import preprocessing\n",
    "from sklearn.model_selection import train_test_split\n",
    "import sklearn.metrics as m"
   ]
  },
  {
   "cell_type": "code",
   "execution_count": 32,
   "metadata": {},
   "outputs": [],
   "source": [
    "data_path = './data/flat_data.npy'\n",
    "#data_path = './data/flat_data_extra.npy'\n",
    "\n",
    "data = np.load(data_path)\n",
    "\n",
    "\n",
    "X = data[:,2:]\n",
    "Y = data[:, 1]"
   ]
  },
  {
   "cell_type": "code",
   "execution_count": 33,
   "metadata": {},
   "outputs": [
    {
     "name": "stdout",
     "output_type": "stream",
     "text": [
      "training accuracy: 0.9616613418530351\n",
      "validation accuracy: 0.9591078066914498\n"
     ]
    }
   ],
   "source": [
    "# normalize data\n",
    "X = preprocessing.normalize(X, norm='l2')\n",
    "\n",
    "train_X, test_X, train_Y, test_Y = train_test_split(X, Y, test_size = 0.3, random_state=1, stratify=Y)\n",
    "\n",
    "# train SVM \n",
    "clf = svm.SVC(probability=True, gamma='auto')\n",
    "clf.fit(train_X, train_Y)\n",
    "\n",
    "# score training set\n",
    "train_acc = clf.score(train_X, train_Y)\n",
    "print ('training accuracy: {}'.format(train_acc))\n",
    "\n",
    "# score test set\n",
    "test_acc = clf.score(test_X, test_Y)\n",
    "print ('validation accuracy: {}'.format(test_acc))\n",
    "\n",
    "# evaluate metrics\n",
    "predict_Y = clf.predict_proba(test_X)\n",
    "yhat = clf.predict(test_X)\n",
    "probs = predict_Y[:,1]\n",
    "precision, recall, thresholds = m.precision_recall_curve(test_Y, probs)"
   ]
  },
  {
   "cell_type": "code",
   "execution_count": 34,
   "metadata": {},
   "outputs": [
    {
     "name": "stdout",
     "output_type": "stream",
     "text": [
      "ROC_AUC: 0.842\n"
     ]
    },
    {
     "data": {
      "image/png": "[encoded data removed]",
      "text/plain": [
       "<Figure size 432x288 with 1 Axes>"
      ]
     },
     "metadata": {
      "needs_background": "light"
     },
     "output_type": "display_data"
    },
    {
     "name": "stdout",
     "output_type": "stream",
     "text": [
      "f1=0.000 auc=0.225 ap=0.268\n"
     ]
    },
    {
     "name": "stderr",
     "output_type": "stream",
     "text": [
      "/Library/Frameworks/Python.framework/Versions/3.6/lib/python3.6/site-packages/sklearn/metrics/classification.py:1143: UndefinedMetricWarning: F-score is ill-defined and being set to 0.0 due to no predicted samples.\n",
      "  'precision', 'predicted', average, warn_for)\n"
     ]
    },
    {
     "data": {
      "image/png": "[encoded data removed]",
      "text/plain": [
       "<Figure size 432x288 with 1 Axes>"
      ]
     },
     "metadata": {
      "needs_background": "light"
     },
     "output_type": "display_data"
    }
   ],
   "source": [
    "# calculate AUC\n",
    "roc = m.roc_auc_score(test_Y, probs)\n",
    "print('ROC_AUC: %.3f' % roc)\n",
    "# calculate roc curve\n",
    "fpr, tpr, thresholds = m.roc_curve(test_Y, probs)\n",
    "# plot no skill\n",
    "pyplot.plot([0, 1], [0, 1], linestyle='--')\n",
    "# plot the roc curve for the model\n",
    "pyplot.plot(fpr, tpr, marker='.')\n",
    "# show the plot\n",
    "pyplot.show()\n",
    "\n",
    "\n",
    "\n",
    "# calculate F1 score\n",
    "f1 = m.f1_score(test_Y, yhat)\n",
    "# calculate precision-recall AUC\n",
    "auc = m.auc(recall, precision)\n",
    "# calculate average precision score\n",
    "ap = m.average_precision_score(test_Y, probs)\n",
    "print('f1=%.3f auc=%.3f ap=%.3f' % (f1, auc, ap))\n",
    "# plot no skill\n",
    "pyplot.plot([0, 1], [0.5, 0.5], linestyle='--')\n",
    "# plot the roc curve for the model\n",
    "pyplot.plot(recall, precision, marker='.')\n",
    "# show the plot\n",
    "pyplot.show()"
   ]
  },
  {
   "cell_type": "code",
   "execution_count": null,
   "metadata": {},
   "outputs": [],
   "source": []
  }
 ],
 "metadata": {
  "kernelspec": {
   "display_name": "Python 3",
   "language": "python",
   "name": "python3"
  },
  "language_info": {
   "codemirror_mode": {
    "name": "ipython",
    "version": 3
   },
   "file_extension": ".py",
   "mimetype": "text/x-python",
   "name": "python",
   "nbconvert_exporter": "python",
   "pygments_lexer": "ipython3",
   "version": "3.6.8"
  }
 },
 "nbformat": 4,
 "nbformat_minor": 2
}

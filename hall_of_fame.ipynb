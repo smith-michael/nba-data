{
 "cells": [
  {
   "cell_type": "code",
   "execution_count": 2,
   "metadata": {},
   "outputs": [
    {
     "name": "stderr",
     "output_type": "stream",
     "text": [
      "Using TensorFlow backend.\n"
     ]
    }
   ],
   "source": [
    "import pandas as pd\n",
    "import numpy as np\n",
    "from sklearn.model_selection import train_test_split\n",
    "pd.options.display.max_columns = None\n",
    "from keras.models import Sequential\n",
    "from keras.layers import Dense, LSTM\n",
    "import sklearn.metrics as m\n",
    "from matplotlib import pyplot\n",
    "from keras import backend as K"
   ]
  },
  {
   "cell_type": "code",
   "execution_count": 63,
   "metadata": {},
   "outputs": [],
   "source": [
    "data_path = 'data/flat_data.npy'\n",
    "names_path = 'data/flat_names.npy'\n",
    "data_path = 'data/flat_data_extra.npy'\n",
    "names_path = 'data/flat_names_extra.npy'\n",
    "\n",
    "# load data from .npy files into numpy arrays\n",
    "data = np.load(data_path)\n",
    "names = np.load(names_path)\n",
    "samples = len(data)\n",
    "time_steps = 20\n",
    "features = 107\n",
    "\n",
    "\n",
    "X = data[:,2:].reshape((samples, time_steps, features))\n",
    "Y = data[:, 1:2].reshape((samples))\n",
    "\n",
    "epochs = 40\n",
    "batch_size = 10\n"
   ]
  },
  {
   "cell_type": "code",
   "execution_count": 64,
   "metadata": {},
   "outputs": [],
   "source": [
    "train_X, test_X, train_Y, test_Y, train_names, test_names = train_test_split(X, Y, names, test_size=0.30, random_state=42)"
   ]
  },
  {
   "cell_type": "code",
   "execution_count": 65,
   "metadata": {},
   "outputs": [
    {
     "data": {
      "text/plain": [
       "{1: 2.2337662337662336}"
      ]
     },
     "execution_count": 65,
     "metadata": {},
     "output_type": "execute_result"
    }
   ],
   "source": [
    "def sensitivity(y_true, y_pred):\n",
    "    true_positives = K.sum(K.round(K.clip(y_true * y_pred, 0, 1)))\n",
    "    possible_positives = K.sum(K.round(K.clip(y_true, 0, 1)))\n",
    "    return true_positives / (possible_positives + K.epsilon())\n",
    "\n",
    "def specificity(y_true, y_pred):\n",
    "    true_negatives = K.sum(K.round(K.clip((1-y_true) * (1-y_pred), 0, 1)))\n",
    "    possible_negatives = K.sum(K.round(K.clip(1-y_true, 0, 1)))\n",
    "    return true_negatives / (possible_negatives + K.epsilon())\n",
    "\n",
    "unique, counts = np.unique(Y, return_counts=True)\n",
    "class_weight={\n",
    "    1: counts[0] / counts[1] * 1\n",
    "}\n",
    "class_weight"
   ]
  },
  {
   "cell_type": "code",
   "execution_count": 66,
   "metadata": {},
   "outputs": [
    {
     "name": "stdout",
     "output_type": "stream",
     "text": [
      "_________________________________________________________________\n",
      "Layer (type)                 Output Shape              Param #   \n",
      "=================================================================\n",
      "lstm_6 (LSTM)                (None, 100)               83200     \n",
      "_________________________________________________________________\n",
      "dense_6 (Dense)              (None, 1)                 101       \n",
      "=================================================================\n",
      "Total params: 83,301\n",
      "Trainable params: 83,301\n",
      "Non-trainable params: 0\n",
      "_________________________________________________________________\n",
      "None\n",
      "done\n"
     ]
    }
   ],
   "source": [
    "# build LSTM layers\n",
    "model = Sequential()\n",
    "model.add(LSTM(100, dropout=0.2, input_shape=(time_steps, features)))\n",
    "model.add(Dense(1, activation='sigmoid'))\n",
    "model.compile(loss='binary_crossentropy', optimizer='adam', metrics=['accuracy', specificity, sensitivity])\n",
    "print(model.summary())\n",
    "model.fit(train_X, train_Y, validation_data=(test_X, test_Y), epochs=epochs, batch_size=batch_size, verbose=0)\n",
    "\n",
    "print('done')\n"
   ]
  },
  {
   "cell_type": "code",
   "execution_count": 67,
   "metadata": {},
   "outputs": [
    {
     "name": "stdout",
     "output_type": "stream",
     "text": [
      "Accuracy: 90.91%\n",
      "Specificity: 94.13%\n",
      "Sensitivity: 83.71%\n",
      "precision: 74.38%\n",
      "recall: 100.00%\n",
      "thresholds: 0.120316982\n",
      "Confusion Matrix\n",
      " [[240  15]\n",
      " [ 19 100]]\n",
      "False Positives\n",
      " ['Clifford Robinson' 'Joe Johnson' 'Sam Cassell' 'LeBron James'\n",
      " 'Byron Scott' 'Latrell Sprewell' 'Zach Randolph' 'Dell Curry' 'Ray Allen'\n",
      " 'Charles Oakley' 'Grant Hill' 'Steve Smith' 'Richard Hamilton'\n",
      " 'DeMarcus Cousins' 'Wayman Tisdale']\n",
      "False Negatives\n",
      " ['Yao Ming' 'Arvydas Sabonis' 'Dennis Johnson' 'Julius Erving'\n",
      " 'Arvydas Sabonis' 'Dennis Johnson' 'Arvydas Sabonis' 'Yao Ming'\n",
      " 'Julius Erving' 'Dennis Johnson' 'Arvydas Sabonis' 'Dennis Johnson'\n",
      " 'Yao Ming' 'Julius Erving' 'Arvydas Sabonis' 'Julius Erving'\n",
      " 'Dennis Johnson' 'Yao Ming' 'Julius Erving']\n"
     ]
    }
   ],
   "source": [
    "yhat = model.predict_classes(test_X)[:, 0]\n",
    "# score model and log accuracy and parameters\n",
    "scores = model.evaluate(test_X, test_Y, verbose=0)\n",
    "probs = model.predict(test_X)\n",
    "precision, recall, thresholds = m.precision_recall_curve(test_Y, probs)\n",
    "\n",
    "print(\"Accuracy: %.2f%%\" % (scores[1]*100))\n",
    "print(\"Specificity: %.2f%%\" % (scores[2]*100))\n",
    "print(\"Sensitivity: %.2f%%\" % (scores[3]*100))\n",
    "print(\"Precision: %.2f%%\" % (precision[0]*100))\n",
    "print(\"Recall: %.2f%%\" % (recall[0]*100))\n",
    "print(\"Threshold: %.9f\" % thresholds[0])\n",
    "print('Confusion Matrix\\n', m.confusion_matrix(test_Y, yhat))\n",
    "\n",
    "f = np.where(probs > thresholds[0])\n",
    "false_positives = np.logical_and(test_Y != yhat, yhat == 1)\n",
    "false_negatives = np.logical_and(test_Y != yhat, yhat == 0)\n",
    "\n",
    "print('False Positives\\n', test_names[false_positives])\n",
    "print('False Negatives\\n', test_names[false_negatives])"
   ]
  },
  {
   "cell_type": "code",
   "execution_count": 68,
   "metadata": {},
   "outputs": [
    {
     "name": "stdout",
     "output_type": "stream",
     "text": [
      "ROC_AUC: 0.966\n"
     ]
    },
    {
     "data": {
      "image/png": "[encoded data removed]",
      "text/plain": [
       "<Figure size 432x288 with 1 Axes>"
      ]
     },
     "metadata": {
      "needs_background": "light"
     },
     "output_type": "display_data"
    },
    {
     "name": "stdout",
     "output_type": "stream",
     "text": [
      "f1=0.855 auc=0.884 ap=0.890\n"
     ]
    },
    {
     "data": {
      "image/png": "[encoded data removed]",
      "text/plain": [
       "<Figure size 432x288 with 1 Axes>"
      ]
     },
     "metadata": {
      "needs_background": "light"
     },
     "output_type": "display_data"
    }
   ],
   "source": [
    "\n",
    "\n",
    "\n",
    "\n",
    "# calculate AUC\n",
    "roc = m.roc_auc_score(test_Y, probs)\n",
    "print('ROC_AUC: %.3f' % roc)\n",
    "# calculate roc curve\n",
    "fpr, tpr, thresholds = m.roc_curve(test_Y, probs)\n",
    "# plot no skill\n",
    "pyplot.plot([0, 1], [0, 1], linestyle='--')\n",
    "# plot the roc curve for the model\n",
    "pyplot.plot(fpr, tpr, marker='.')\n",
    "# show the plot\n",
    "pyplot.show()\n",
    "\n",
    "\n",
    "\n",
    "# calculate F1 score\n",
    "f1 = m.f1_score(test_Y, yhat)\n",
    "# calculate precision-recall AUC\n",
    "auc = m.auc(recall, precision)\n",
    "# calculate average precision score\n",
    "ap = m.average_precision_score(test_Y, probs)\n",
    "print('f1=%.3f auc=%.3f ap=%.3f' % (f1, auc, ap))\n",
    "# plot no skill\n",
    "pyplot.plot([0, 1], [0.5, 0.5], linestyle='--')\n",
    "# plot the roc curve for the model\n",
    "pyplot.plot(recall, precision, marker='.')\n",
    "# show the plot\n",
    "pyplot.show()"
   ]
  },
  {
   "cell_type": "code",
   "execution_count": null,
   "metadata": {},
   "outputs": [],
   "source": []
  }
 ],
 "metadata": {
  "kernelspec": {
   "display_name": "Python 3",
   "language": "python",
   "name": "python3"
  },
  "language_info": {
   "codemirror_mode": {
    "name": "ipython",
    "version": 3
   },
   "file_extension": ".py",
   "mimetype": "text/x-python",
   "name": "python",
   "nbconvert_exporter": "python",
   "pygments_lexer": "ipython3",
   "version": "3.6.8"
  }
 },
 "nbformat": 4,
 "nbformat_minor": 2
}
